{
  "nbformat": 4,
  "nbformat_minor": 0,
  "metadata": {
    "colab": {
      "name": "self-supervised_pretraining_for_DP.ipynb",
      "provenance": [],
      "machine_shape": "hm"
    },
    "kernelspec": {
      "name": "python3",
      "display_name": "Python 3"
    },
    "language_info": {
      "name": "python"
    },
    "accelerator": "GPU",
    "gpuClass": "standard"
  },
  "cells": [
    {
      "cell_type": "code",
      "execution_count": null,
      "metadata": {
        "colab": {
          "base_uri": "https://localhost:8080/"
        },
        "id": "RNRORL1o1Rlz",
        "outputId": "d6f81636-f89d-416e-e4db-c7578298eacb"
      },
      "outputs": [
        {
          "output_type": "stream",
          "name": "stdout",
          "text": [
            "Mounted at /content/drive/\n",
            "/content/drive/MyDrive/DP/Paper\n",
            "Looking in indexes: https://pypi.org/simple, https://us-python.pkg.dev/colab-wheels/public/simple/\n",
            "Collecting opacus\n",
            "  Downloading opacus-1.1.3-py3-none-any.whl (181 kB)\n",
            "\u001b[K     |████████████████████████████████| 181 kB 8.8 MB/s \n",
            "\u001b[?25hRequirement already satisfied: torch>=1.8 in /usr/local/lib/python3.7/dist-packages (from opacus) (1.12.0+cu113)\n",
            "Requirement already satisfied: scipy>=1.2 in /usr/local/lib/python3.7/dist-packages (from opacus) (1.7.3)\n",
            "Requirement already satisfied: opt-einsum>=3.3.0 in /usr/local/lib/python3.7/dist-packages (from opacus) (3.3.0)\n",
            "Requirement already satisfied: numpy>=1.15 in /usr/local/lib/python3.7/dist-packages (from opacus) (1.21.6)\n",
            "Requirement already satisfied: typing-extensions in /usr/local/lib/python3.7/dist-packages (from torch>=1.8->opacus) (4.1.1)\n",
            "Installing collected packages: opacus\n",
            "Successfully installed opacus-1.1.3\n",
            "Looking in indexes: https://pypi.org/simple, https://us-python.pkg.dev/colab-wheels/public/simple/\n",
            "Collecting kymatio==0.2.1\n",
            "  Downloading kymatio-0.2.1-py3-none-any.whl (93 kB)\n",
            "\u001b[K     |████████████████████████████████| 93 kB 1.7 MB/s \n",
            "\u001b[?25hRequirement already satisfied: appdirs in /usr/local/lib/python3.7/dist-packages (from kymatio==0.2.1) (1.4.4)\n",
            "Requirement already satisfied: numpy in /usr/local/lib/python3.7/dist-packages (from kymatio==0.2.1) (1.21.6)\n",
            "Requirement already satisfied: scipy in /usr/local/lib/python3.7/dist-packages (from kymatio==0.2.1) (1.7.3)\n",
            "Collecting configparser\n",
            "  Downloading configparser-5.2.0-py3-none-any.whl (19 kB)\n",
            "Requirement already satisfied: packaging in /usr/local/lib/python3.7/dist-packages (from kymatio==0.2.1) (21.3)\n",
            "Requirement already satisfied: pyparsing!=3.0.5,>=2.0.2 in /usr/local/lib/python3.7/dist-packages (from packaging->kymatio==0.2.1) (3.0.9)\n",
            "Installing collected packages: configparser, kymatio\n",
            "Successfully installed configparser-5.2.0 kymatio-0.2.1\n"
          ]
        }
      ],
      "source": [
        "from google.colab import drive\n",
        "drive.mount('/content/drive/')\n",
        "%cd drive/MyDrive/DP/Paper/\n",
        "!pip install opacus\n",
        "!pip install kymatio==0.2.1"
      ]
    },
    {
      "cell_type": "code",
      "source": [
        "!python3 ./dpsgd_tuning.py --dataset=plant --feature-path=\"./features/mini_plant\" --batch-size=2048 --lr=8 --noise-multiplier=2 --epochs=1 --extractor='mini'"
      ],
      "metadata": {
        "colab": {
          "base_uri": "https://localhost:8080/"
        },
        "id": "S-GB9CBL1ZNZ",
        "outputId": "db39c68c-54f8-438e-e90b-0c2511f2394e"
      },
      "execution_count": null,
      "outputs": [
        {
          "output_type": "stream",
          "name": "stdout",
          "text": [
            "/usr/local/lib/python3.7/dist-packages/opacus/privacy_engine.py:134: UserWarning: Secure RNG turned off. This is perfectly fine for experimentation as it allows for much faster training performance, but remember to turn it on and retrain one last time before production with ``secure_mode`` turned on.\n",
            "  \"Secure RNG turned off. This is perfectly fine for experimentation as it allows \"\n",
            "/usr/local/lib/python3.7/dist-packages/torch/nn/modules/module.py:1053: UserWarning: Using a non-full backward hook when the forward contains multiple autograd Nodes is deprecated and will be removed in future versions. This hook will be missing some grad_input. Please use register_full_backward_hook to get the documented behavior.\n",
            "  warnings.warn(\"Using a non-full backward hook when the forward contains multiple autograd Nodes \"\n",
            "Train Epoch: 0 \tLoss: 2.569805 \tAcc@1: 34.082412 \t(ε = 0.56, δ = 1e-05) \t\n",
            "Test Epoch: 0 \tLoss: 1.910641 \tAcc: 46.176939 \t\n",
            "0.5643600458954521,0.4617693865740741\n"
          ]
        }
      ]
    },
    {
      "cell_type": "code",
      "source": [
        "!python3 ./bayes_tuning.py --dataset=plant --feature-path=\"./features/mini_plant\" --batch-size=1024 --lr=4 --noise-multiplier=2 --epochs=2 --extractor='mini'"
      ],
      "metadata": {
        "colab": {
          "base_uri": "https://localhost:8080/"
        },
        "id": "pXwgii4x-GuO",
        "outputId": "c09eed9f-76de-41ba-f908-fd769ab2a1c8"
      },
      "execution_count": null,
      "outputs": [
        {
          "output_type": "stream",
          "name": "stdout",
          "text": [
            "/usr/local/lib/python3.7/dist-packages/opacus/privacy_engine.py:134: UserWarning: Secure RNG turned off. This is perfectly fine for experimentation as it allows for much faster training performance, but remember to turn it on and retrain one last time before production with ``secure_mode`` turned on.\n",
            "  \"Secure RNG turned off. This is perfectly fine for experimentation as it allows \"\n",
            "/usr/local/lib/python3.7/dist-packages/torch/nn/modules/module.py:1053: UserWarning: Using a non-full backward hook when the forward contains multiple autograd Nodes is deprecated and will be removed in future versions. This hook will be missing some grad_input. Please use register_full_backward_hook to get the documented behavior.\n",
            "  warnings.warn(\"Using a non-full backward hook when the forward contains multiple autograd Nodes \"\n",
            "Train Epoch: 0 \tLoss: 2.380394 \tAcc@1: 37.264910 \t(ε = 0.38, δ = 1e-05) \t\n",
            "Test Epoch: 0 \tLoss: 1.696515 \tAcc: 52.192827 \t\n",
            "./bayes_tuning.py:39: RuntimeWarning: invalid value encountered in double_scalars\n",
            "  return norm.cdf(-eps/mu+mu/2)-np.exp(eps)*norm.cdf(-eps/mu-mu/2)\n",
            "./bayes_tuning.py:39: RuntimeWarning: divide by zero encountered in double_scalars\n",
            "  return norm.cdf(-eps/mu+mu/2)-np.exp(eps)*norm.cdf(-eps/mu-mu/2)\n",
            "0.0,0.5219282670454546\n",
            "Train Epoch: 1 \tLoss: 1.508231 \tAcc@1: 56.627384 \t(ε = 0.50, δ = 1e-05) \t\n",
            "Test Epoch: 1 \tLoss: 1.351279 \tAcc: 60.068458 \t\n",
            "0.32734810850033313,0.6006845801767677\n"
          ]
        }
      ]
    },
    {
      "cell_type": "code",
      "source": [
        "!python3 ./dfa_tuning.py --dataset=\"plant\" --feature-path \"./features/mini_plant\" --epochs=1 --batch-size=1500 --training-method=\"TDFA\" --lr=0.2 --sigma-privacy=0.08 --extractor='mini'"
      ],
      "metadata": {
        "colab": {
          "base_uri": "https://localhost:8080/"
        },
        "id": "XogD24B0-fT1",
        "outputId": "581ace67-e5c1-4cc6-e46b-90a3cd4497c2"
      },
      "execution_count": null,
      "outputs": [
        {
          "output_type": "stream",
          "name": "stdout",
          "text": [
            "/usr/local/lib/python3.7/dist-packages/torch/nn/modules/module.py:1053: UserWarning: Using a non-full backward hook when the forward contains multiple autograd Nodes is deprecated and will be removed in future versions. This hook will be missing some grad_input. Please use register_full_backward_hook to get the documented behavior.\n",
            "  warnings.warn(\"Using a non-full backward hook when the forward contains multiple autograd Nodes \"\n",
            "{'fc1': [0.000749730970710516, 0.14373615384101868], 'fc2': [1.0, 9.838510806048362e-08]}\n",
            "Test Epoch: 0 \tLoss: 7.082660 \tAcc: 32.122363 \t\n",
            "/usr/local/lib/python3.7/dist-packages/opacus/accountants/analysis/rdp.py:333: UserWarning: Optimal order is the largest alpha. Please consider expanding the range of alphas to get a tighter privacy bound.\n",
            "  f\"Optimal order is the {extreme} alpha. Please consider expanding the range of alphas to get a tighter privacy bound.\"\n",
            "0.17286725121127972,0.3212236286919831\n"
          ]
        }
      ]
    },
    {
      "cell_type": "code",
      "source": [
        "!python3 ./dfa_tuning.py --dataset=\"imagenet\" --feature-path='none'  --epochs=5 --batch-size=2048 --training-method=\"TDFA\" --lr=0.2 --sigma-privacy=1e-2 --extractor='pass'"
      ],
      "metadata": {
        "colab": {
          "base_uri": "https://localhost:8080/"
        },
        "id": "R2bi-bg1GPK9",
        "outputId": "c9a5f9aa-eede-4606-9d5d-7e67e12c49e0"
      },
      "execution_count": null,
      "outputs": [
        {
          "output_type": "stream",
          "name": "stdout",
          "text": [
            "Traceback (most recent call last):\n",
            "  File \"./dfa_tuning.py\", line 217, in <module>\n",
            "    main(args)\n",
            "  File \"./dfa_tuning.py\", line 114, in main\n",
            "    test_loader, train_loader, n_features, n_train = get_feature_data_imagenet(args.feature_path, args.batch_size, False, 1, False)\n",
            "  File \"/content/drive/MyDrive/DP/Paper/lib/data.py\", line 22, in get_feature_data_imagenet\n",
            "    train_file = np.load(train_path)\n",
            "  File \"/usr/local/lib/python3.7/dist-packages/numpy/lib/npyio.py\", line 417, in load\n",
            "    fid = stack.enter_context(open(os_fspath(file), \"rb\"))\n",
            "FileNotFoundError: [Errno 2] No such file or directory: './features/imagenet_train.npz'\n"
          ]
        }
      ]
    }
  ]
}